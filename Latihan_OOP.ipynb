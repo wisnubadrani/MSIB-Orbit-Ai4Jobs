{
  "nbformat": 4,
  "nbformat_minor": 0,
  "metadata": {
    "colab": {
      "provenance": [],
      "authorship_tag": "ABX9TyP8iktYN5G9iLLiE+0d6W6t",
      "include_colab_link": true
    },
    "kernelspec": {
      "name": "python3",
      "display_name": "Python 3"
    },
    "language_info": {
      "name": "python"
    }
  },
  "cells": [
    {
      "cell_type": "markdown",
      "metadata": {
        "id": "view-in-github",
        "colab_type": "text"
      },
      "source": [
        "<a href=\"https://colab.research.google.com/github/wisnubadrani/MSIB-Orbit-Ai4Jobs/blob/main/Latihan_OOP.ipynb\" target=\"_parent\"><img src=\"https://colab.research.google.com/assets/colab-badge.svg\" alt=\"Open In Colab\"/></a>"
      ]
    },
    {
      "cell_type": "code",
      "source": [
        "#Encapsukation\n",
        "class mobil:\n",
        "  def __init__(self,tipe,plat,tahun):\n",
        "    self.tipe = tipe\n",
        "    self.plat = plat\n",
        "    self.tahun = tahun\n",
        "\n",
        "  def tes(self):\n",
        "    print(self.tipe)\n",
        "  def set (self,tipe,plat,tahun):\n",
        "    self.tipe = tipe\n",
        "    self.plat = plat\n",
        "    self.tahun = tahun\n",
        "  def roda(self):\n",
        "    print(\"Mobil beroda empat\")\n",
        "  def bahan_bakar(self):\n",
        "    print(\"Mobil menggunakan bensin \")\n",
        "  def alat_kemudi(self):\n",
        "    print(\"Menggunakan Stir\")\n"
      ],
      "metadata": {
        "id": "DcOgdblA-cMd"
      },
      "execution_count": null,
      "outputs": []
    },
    {
      "cell_type": "code",
      "source": [
        "class mobil:\n",
        "  tipe = ''\n",
        "  tahun = ''\n",
        "  plat = ''\n",
        "\n",
        "  def roda(self):\n",
        "    print(\"Mobil beroda empat\")\n",
        "  def bahan_bakar(self):\n",
        "    print(\"Mobil menggunakan bensin \")\n",
        "  def alat_kemudi(self):\n",
        "    print(\"Menggunakan Stir\")\n"
      ],
      "metadata": {
        "id": "Iv7Amj7q_PdW"
      },
      "execution_count": null,
      "outputs": []
    },
    {
      "cell_type": "code",
      "source": [
        "bmw = mobil() #bikin objek"
      ],
      "metadata": {
        "id": "1JjwgCpF8eb0"
      },
      "execution_count": null,
      "outputs": []
    },
    {
      "cell_type": "code",
      "source": [
        "#bikin objek sekaligus\n",
        "\n",
        "toyota = mobil(\"hilux\", \"d123asd\", 2020)"
      ],
      "metadata": {
        "id": "o4MxDeM5_nYL"
      },
      "execution_count": null,
      "outputs": []
    },
    {
      "cell_type": "code",
      "source": [
        "toyota.roda()"
      ],
      "metadata": {
        "colab": {
          "base_uri": "https://localhost:8080/"
        },
        "id": "bYcRD1prAfn9",
        "outputId": "d5f35645-188a-40de-a17e-eadbeb4c7f03"
      },
      "execution_count": null,
      "outputs": [
        {
          "output_type": "stream",
          "name": "stdout",
          "text": [
            "Mobil beroda empat\n"
          ]
        }
      ]
    },
    {
      "cell_type": "code",
      "source": [
        "bmw.tipe = 'sClass'\n",
        "bmw.plat = 'D157ASD'\n",
        "bmw.tahun = '2017'"
      ],
      "metadata": {
        "id": "A0UWYyoY8tQJ"
      },
      "execution_count": null,
      "outputs": []
    },
    {
      "cell_type": "code",
      "source": [
        "print(\"tipe Mobil adalah\",{bmw.tipe},\"\\n\", \"dengan plat no\", {bmw.plat},\"dan tahun rakit\",{bmw.tahun})"
      ],
      "metadata": {
        "colab": {
          "base_uri": "https://localhost:8080/"
        },
        "id": "2P41Shdc85f8",
        "outputId": "8ec134a2-5ad4-47e9-eeff-409d18cb8dd7"
      },
      "execution_count": null,
      "outputs": [
        {
          "output_type": "stream",
          "name": "stdout",
          "text": [
            "tipe Mobil adalah {'sClass'} \n",
            " dengan plat no {'D157ASD'} dan tahun rakit {'2017'}\n"
          ]
        }
      ]
    },
    {
      "cell_type": "code",
      "source": [
        "#update\n",
        "print(bmw.tipe)\n",
        "\n",
        "bmw.tipe = \"dClass\"\n",
        "print(bmw.tipe)"
      ],
      "metadata": {
        "colab": {
          "base_uri": "https://localhost:8080/"
        },
        "id": "7-fK2Q2P9s_E",
        "outputId": "e33b7507-265d-4634-c0a4-ddddde032c3d"
      },
      "execution_count": null,
      "outputs": [
        {
          "output_type": "stream",
          "name": "stdout",
          "text": [
            "sClass\n",
            "dClass\n"
          ]
        }
      ]
    },
    {
      "cell_type": "code",
      "source": [
        "#Panggil behavior\n",
        "bmw.roda()\n",
        "bmw.bahan_bakar()"
      ],
      "metadata": {
        "colab": {
          "base_uri": "https://localhost:8080/"
        },
        "id": "DgP2neui96nC",
        "outputId": "b47ec2dd-9bbe-4492-fae1-e3b017ce7605"
      },
      "execution_count": null,
      "outputs": [
        {
          "output_type": "stream",
          "name": "stdout",
          "text": [
            "Mobil beroda empat\n",
            "Mobil menggunakan bensin \n"
          ]
        }
      ]
    },
    {
      "cell_type": "code",
      "source": [
        "#Inhertance\n",
        "#Parent Class\n",
        "class orang:\n",
        "  nama = ''\n",
        "  umur = ''\n",
        "  jk = ''\n",
        "\n",
        "  def get_info(self):\n",
        "    return self.nama, self.umur, self.jk\n",
        "\n",
        "#child class\n",
        "class murid(orang):\n",
        "  kelas = ''\n",
        "\n",
        "  def input_kelas(self,kelas):\n",
        "    return kelas\n",
        "\n",
        "class guru(orang):\n",
        "  mapel = ''\n",
        "\n",
        "  def input_mapel(self,mapel):\n",
        "    return mapel\n"
      ],
      "metadata": {
        "id": "JZwUhn9XCEc8"
      },
      "execution_count": null,
      "outputs": []
    },
    {
      "cell_type": "code",
      "source": [
        "alex = murid()\n",
        "alex.nama = 'Alex'\n",
        "alex.umur = 17\n",
        "alex.jk = \"Laki - laki\"\n",
        "alex.kelas = \"5B\""
      ],
      "metadata": {
        "id": "cnIc_G26Dkk-"
      },
      "execution_count": null,
      "outputs": []
    },
    {
      "cell_type": "code",
      "source": [
        "print(alex.get_info())"
      ],
      "metadata": {
        "colab": {
          "base_uri": "https://localhost:8080/"
        },
        "id": "oQaJG9ZND_Ze",
        "outputId": "d5968c28-8cdb-4ef6-f030-b0ad98257a22"
      },
      "execution_count": null,
      "outputs": [
        {
          "output_type": "stream",
          "name": "stdout",
          "text": [
            "('Alex', 17, 'Laki - laki')\n"
          ]
        }
      ]
    }
  ]
}