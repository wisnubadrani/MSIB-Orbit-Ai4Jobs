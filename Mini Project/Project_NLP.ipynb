{
  "cells": [
    {
      "cell_type": "code",
      "execution_count": null,
      "metadata": {
        "colab": {
          "base_uri": "https://localhost:8080/"
        },
        "id": "MWc0A8TP4gCd",
        "outputId": "e5c34b7b-59bf-41a3-cd98-cf7b870974f9"
      },
      "outputs": [
        {
          "name": "stdout",
          "output_type": "stream",
          "text": [
            "di kota bandung sendiri, terdapat beberapa moda angkutan umum yang melayani trayek baik di dalam kota, maupun lintas kota sekitar wilayah bandung raya. moda transportasi tersebut dilayani oleh angkutan kota (angkot), bus kota (damri), trans metro bandung (tmb), maupun kereta rel diesel (krd)angkutan kota dan bus kotauntuk transportasi di dalam kota, masyarakat bandung biasanya menggunakan angkutan kota atau yang lebih akrab disebut angkot. selain itu, bus kota dan taksi juga menjadi alat transportasi di kota ini. sedangkan sebagai terminal bus antarkota dan provinsi di kota ini adalah terminal leuwipanjang untuk rute barat dan terminal cicaheum untuk rute timur. travel point to point antara bandung-jakarta memiliki poolnya sendiri-sendiri, tetapi semua travel memiliki juga pool di terusan pasteur, jalan menuju tol bandung-jakarta. pada 24 september 2009, tmb (trans metro bandung) resmi beroperasi, walaupun sempat diprotes oleh sopir angkot setempat. tmb ini merupakan proyek pemerintah kota bandung dalam memberikan layanan transportasi massal dengan harga murah, fasilitas dan kenyamanan yang terjamin serta tepat waktu ke tujuan.pesawatkota bandung memiliki sebuah pelabuhan udara yang bernama bandar udara husein sastranegara untuk menghubungkan kota ini dengan beberapa kota-kota lainnya di indonesia seperti jakarta, surabaya, denpasar, menado, yogyakarta, batam, mataram, makassar, bandar lampung, palembang, pangkalpinang, semarang, dan medan. sedangkan untuk rute luar negeri diantaranya malaysia, singapura, thailand dan brunei darussalam.kapasitas terminal airport yang semula hanya dapat menampung 600.000 penumpang pertahun,kini dapat menampung hingga 3,4 juta penumpang pertahun yang terdiri dari terminal domestik dan terminal internasional.sebelum terminal bandara ini dikembangkan,layanan penumpang keberangkatan maupun kedatangan domestik dan internasional dilayani dalam satu terminal.kereta apikota bandung juga mempunyai stasiun kereta api utama, yaitu stasiun bandung dan stasiun kiaracondongselain 2 buah stasiun tersebut, terdapat 5 stasiun ka lain, seperti gedebage (khusus peti kemas), cimindi, andir, ciroyom dan cikudapateuh.pendidikan secara praktis tak dapat dipisahkan dengan nilai-nilai budaya. dalam menjaga dan melestarikan kebudayaan sendiri, secara proses mantransfernya yang paling efektif dengan cara pendidikan. keduanya sangat erat sekali hubungannya karena saling melengkapi dan mendukung antara satru sama lainnya.\r\n",
            "tujuan pendidikan pun adalah melestarikan dan selalu meningkatkan kebudayaan itu sendiri, dengan adanya pendidikanlah kita bisa mentransfer kebudayaan itu sendiri dari generasi ke generasi selanjutnya.pendidikan di kota bandungtujuan pendidikan nasional sesuai yang tercantum pada pembukaan undang undang dasar 1945 adalah mencerdaskan kehidupan bangsa dan mengembangkan suember daya manusia (sdm). di antaranya manusia yang beriman, bertakwa terhadap tuhan yang maha esa;  berbudi pekerti luhur; memiliki pengetahuan; keterampilan; kesehatan jasmani dan rohani; berkepribadian yang baik; mandiri serta rasa tanggung jawab kemasyarakatan serta kebangsaan.karena itu pendidikan menempati salah satu unsur yang sangat penting dalam pembangunan. dalam menghadapi perkembangan baik nasional maupun internasional yang demikian mengglobal dan semakin kompleks, maka menuntut tersedianya sdm yang berkualitas. pendidikan merupakan bidang yang harus mampu menciptakan kualitas sumber daya manusia yang unggul.pada tingkat nasional, program yang dilaksanakan tetap mengacu pada 4 program strategis, yaitu peningkatan mutu pendidikan, peningkatan pemerataan pendidikan, peningkatan efisiensi pendidikan dan relevansi pendidikan sesuai dengan tuntutan dan kebutuhan masyarakat. selain itu, program rintisan wajib belajar pendidikan dasar 9 tahun merupakan program strategis yang terus diupayakan penuntasannya secara nasional.pada tingkat regional, provinsi jawa barat merupakan provinsi yang pertama kali mencanangkan pencapaian target indeks pembangunan manusia (ipm) 90 tahun pada 2023. provinsi jawa barat telah menetapkan kebijakan di sektor pendidikan. kebijakan tersebut antara lain mengenai upaya peningkatan (aps) angka partisipasi sekolah, harapan lama sekolah dan (hls) angka rata-rata lama sekolah dalam rangka peningkatan (ip) indeks pendidikan.berdasarkan undang-undang nomor 12 tahun 2008 tentang perubahan kedua atas undang-undang nomor 32 tahun 2004 tentang pemerintahan daerah disebutkan bahwa pendidikan merupakan salah satu bidang pemerintahan yang wajib dilaksanakan oleh kabupaten/kota. berkenaan dengan kewajiban tersebut pemerintah kota bandung telah menetapkan kewenangan daerah sebagai daerah otonom yang ditetapkan dalam peraturan daerah kota bandung nomor 02 tahun 2001 tentang kewenangan daerah kota bandung sebagai daerah otonom.selain itu dasar hukum untuk menyelenggarakan pemerintahan dan pelaksanaan pembangunan, telah ditetapkan pula peraturan daerah kota bandung nomor 08 tahun 2016 tentang pembentukan dan susunan organisasi dinas daerah kota bandung. dan peraturan wali kota bandung nomor 1380 tahun 2016 tentang kedudukan, susunan organisasi, tugas dan fungsi serta tata kerja dinas pendidikan.selaras dengan tuntutan perkembangan di masa mendatang, pemerintah kota bandung telah mencanangkan rencana pembangunan jangka menengah yang tertuang pada peraturan kota bandung nomor 2 tahun 2019 tentang rencana pembanguan jangka menengah daerah (rpjpd) tahun 2018-2023. dalam rpjmd tersebut ditegaskan bahwa visi pembangunan kota bandung yang akan dicapai adalah “terwujudnya kota bandung yang nyaman, unggul, sejahtera, dan agamis.”program pembangunan daerah merupakan program atau agenda strategis kepala daerah pada periode rpjmd yang akan menjadi prioritas atau target selama lima (5) tahun yang secara langsung didedikasikan untuk mencapai sasaran daerah. dalam implementasinya program pembangunan daerah dilaksanakan dalam penyelenggaraan urusan yang menjadi kewenangan daerah. program pembangunan daerah yang akan dilaksanakan selama 5 (lima) tahun periode 2018-2023 adalah untuk menjawab isu strategis yang terdiri atas: kebudayaan di kota bandungbandung bukan hanya sebuah kota yang menjadi rumah bagi jutaan warganya. lebih dari itu, bandung adalah kisah dan sejarah yang telah bergulir lebih dari dua abad silam. sejak dahulu bandung mahsyur akan kemolekannya. kota yang dikelilingi pegunungan ini memang menyimpan berjuta keindahan alam. tidak hanya itu, berbagai macam destinasi wisata menarik mulai dari tempat kuliner sampai tempat rekreasi bisa ditemukan di kota bandung.selain dikenal sebagai paris van java dan kota kembang, bandung pun dijuluki the most european city in the east indies, bandung excelsior, intelectuele centrum van indie, europe in the tropen, kota permai, kota pendidkan, kota kreatif hingga kota kuliner. sebagai ibu kota provinsi jawa barat, kota bandung memiliki sarana pelayanan kesehatan yang paling lengkap di provinsi ini. sampai tahun 2007, kota bandung telah memiliki 30 unit rumah sakit dan 70 unit puskesmas yang tersebar di kota ini, di mana dari 17 unit rumah sakit tersebut diantaranya telah memiliki 4 pelayanan kesehatan dasar sedangkan selebihnya merupakan rumah sakit khusus. pelayanan kesehatan dasar tersebut meliputi pelayanan spesialis bedah, pelayanan spesialis penyakit dalam, pelayanan spesialis anak serta pelayanan spesialis kebidanan dan kandungan. dari jumlah tenaga medis yang tercatat di kota bandung dibandingkan dengan jumlah penduduk pada tahun 2007 adalah 86 orang tenaga medis untuk melayani 100.000 penduduk.melaksanakan sebagian urusan pemerintahan daerah di bidang kesehatan berdasarkan asas otonomi dan pembantuan.fungsidi kota bandung sendiri, terdapat beberapa moda angkutan umum yang melayani trayek baik di dalam kota, maupun lintas kota sekitar wilayah bandung raya. moda transportasi tersebut dilayani oleh angkutan kota (angkot), bus kota (damri), trans metro bandung (tmb), maupun kereta rel diesel (krd)angkutan kota dan bus kotauntuk transportasi di dalam kota, masyarakat bandung biasanya menggunakan angkutan kota atau yang lebih akrab disebut angkot. selain itu, bus kota dan taksi juga menjadi alat transportasi di kota ini. sedangkan sebagai terminal bus antarkota dan provinsi di kota ini adalah terminal leuwipanjang untuk rute barat dan terminal cicaheum untuk rute timur. travel point to point antara bandung-jakarta memiliki poolnya sendiri-sendiri, tetapi semua travel memiliki juga pool di terusan pasteur, jalan menuju tol bandung-jakarta. pada 24 september 2009, tmb (trans metro bandung) resmi beroperasi, walaupun sempat diprotes oleh sopir angkot setempat. tmb ini merupakan proyek pemerintah kota bandung dalam memberikan layanan transportasi massal dengan harga murah, fasilitas dan kenyamanan yang terjamin serta tepat waktu ke tujuan.pesawatkota bandung memiliki sebuah pelabuhan udara yang bernama bandar udara husein sastranegara untuk menghubungkan kota ini dengan beberapa kota-kota lainnya di indonesia seperti jakarta, surabaya, denpasar, menado, yogyakarta, batam, mataram, makassar, bandar lampung, palembang, pangkalpinang, semarang, dan medan. sedangkan untuk rute luar negeri diantaranya malaysia, singapura, thailand dan brunei darussalam.kapasitas terminal airport yang semula hanya dapat menampung 600.000 penumpang pertahun,kini dapat menampung hingga 3,4 juta penumpang pertahun yang terdiri dari terminal domestik dan terminal internasional.sebelum terminal bandara ini dikembangkan,layanan penumpang keberangkatan maupun kedatangan domestik dan internasional dilayani dalam satu terminal.kereta apikota bandung juga mempunyai stasiun kereta api utama, yaitu stasiun bandung dan stasiun kiaracondongselain 2 buah stasiun tersebut, terdapat 5 stasiun ka lain, seperti gedebage (khusus peti kemas), cimindi, andir, ciroyom dan cikudapateuh.bandung bukan hanya sebuah kota yang menjadi rumah bagi jutaan warganya. lebih dari itu, bandung adalah kisah dan sejarah yang telah bergulir lebih dari dua abad silam. sejak dahulu bandung mahsyur akan kemolekannya. kota yang dikelilingi pegunungan ini memang menyimpan berjuta keindahan alam. tidak hanya itu, berbagai macam destinasi wisata menarik mulai dari tempat kuliner sampai tempat rekreasi bisa ditemukan di kota bandung.\r\n",
            "\r\n",
            "selain dikenal sebagai paris van java dan kota kembang, bandung pun dijuluki the most european city in the east indies, bandung excelsior, intelectuele centrum van indie, europe in the tropen, kota permai, kota pendidkan, kota kreatif hingga kota kuliner.kota bandung adalah salah satu kota terbesar yang ada di indonesia. kota ini juga dijuluki sebagai “paris van java” atau kota paris-nya jawa. karena semua hal ada di bandung. kota ini juga memiliki tata kota yang apik dan fasilitas yang memadai untuk para pelancong, baik yang berasal dari dalam negeri maupun wisatawan luar negeri.kota ini tidak hanya dijuluki sebagai kota metropolitan, tetapi juga kota dengan banyak tempat wisata yang menyenangkan. daerahnya juga menyimpan berbagai keindahan alam yang sangat luar biasa. ada banyak sekali tempat wisata di bandung, seperti taman kota, tempat peninggalan sejarah, wisata alam, danau dan lain nya.\n"
          ]
        }
      ],
      "source": [
        "# Import Library\n",
        "import bs4 as bs\n",
        "import urllib.request\n",
        "\n",
        "# Scraping data\n",
        "bdg_data = urllib.request.urlopen('https://www.bandung.go.id/etalase/4/transportasi').read() #pemerintahan\n",
        "bdg_data1 = urllib.request.urlopen('https://www.bandung.go.id/etalase/2/pendidikan-dan-kebudayaan').read() #pendidikan\n",
        "bdg_data2 = urllib.request.urlopen('https://www.bandung.go.id/etalase/3/kesehatan').read() #kesehatan\n",
        "bdg_data3 = urllib.request.urlopen('https://www.bandung.go.id/etalase/4/transportasi').read() #transportasi\n",
        "bdg_data4 = urllib.request.urlopen('https://www.bandung.go.id/etalase/6/tempat-wisata-dan-rekreasi').read() #tempat rekreasi\n",
        "\n",
        "# Menemukan keseluruhan paragraf html dari laman web\n",
        "bdg_data_paragraphs  = bs.BeautifulSoup(bdg_data,'lxml').find_all('p')\n",
        "bdg_data_paragraphs1  = bs.BeautifulSoup(bdg_data1,'lxml').find_all('p')\n",
        "bdg_data_paragraphs2  = bs.BeautifulSoup(bdg_data2,'lxml').find_all('p')\n",
        "bdg_data_paragraphs3  = bs.BeautifulSoup(bdg_data3,'lxml').find_all('p')\n",
        "bdg_data_paragraphs4  = bs.BeautifulSoup(bdg_data4,'lxml').find_all('p')\n",
        "\n",
        "# Membuat korpus dari keseluruhan paragraf artikel dari situs web\n",
        "bdg_text = ''\n",
        "# Membuat korpus teks huruf kecil pada paragraf\n",
        "for p in bdg_data_paragraphs:\n",
        "    bdg_text += p.text.lower()\n",
        "for p in bdg_data_paragraphs1:\n",
        "    bdg_text += p.text.lower()\n",
        "for p in bdg_data_paragraphs2:\n",
        "    bdg_text += p.text.lower()\n",
        "for p in bdg_data_paragraphs3:\n",
        "    bdg_text += p.text.lower()\n",
        "for p in bdg_data_paragraphs4:\n",
        "    bdg_text += p.text.lower()\n",
        "\n",
        "\n",
        "print(bdg_text)"
      ]
    },
    {
      "cell_type": "code",
      "execution_count": null,
      "metadata": {
        "id": "42QjwCAg6KfV"
      },
      "outputs": [],
      "source": [
        "# Regular Expressions\n",
        "import re \n",
        "bdg_text = re.sub(r'\\s+', ' ',re.sub(r'\\[[0-9]*\\]', ' ', bdg_text))"
      ]
    },
    {
      "cell_type": "code",
      "execution_count": null,
      "metadata": {
        "colab": {
          "base_uri": "https://localhost:8080/"
        },
        "id": "oTzv7vEa6Qdw",
        "outputId": "b660936a-425d-4ff2-d240-4b328d2ca8ce"
      },
      "outputs": [
        {
          "name": "stderr",
          "output_type": "stream",
          "text": [
            "[nltk_data] Downloading package punkt to /root/nltk_data...\n",
            "[nltk_data]   Package punkt is already up-to-date!\n"
          ]
        },
        {
          "data": {
            "text/plain": [
              "True"
            ]
          },
          "execution_count": 9,
          "metadata": {},
          "output_type": "execute_result"
        }
      ],
      "source": [
        "# Tokenisasi nltk\n",
        "import nltk \n",
        "# Unduh package punkt dalam nltk\n",
        "nltk.download('punkt') "
      ]
    },
    {
      "cell_type": "code",
      "execution_count": null,
      "metadata": {
        "colab": {
          "base_uri": "https://localhost:8080/"
        },
        "id": "AAeZAvlS6UyB",
        "outputId": "44865990-3b12-4ad5-ceec-011c748f0ef2"
      },
      "outputs": [
        {
          "name": "stdout",
          "output_type": "stream",
          "text": [
            "['di kota bandung sendiri, terdapat beberapa moda angkutan umum yang melayani trayek baik di dalam kota, maupun lintas kota sekitar wilayah bandung raya.', 'moda transportasi tersebut dilayani oleh angkutan kota (angkot), bus kota (damri), trans metro bandung (tmb), maupun kereta rel diesel (krd)angkutan kota dan bus kotauntuk transportasi di dalam kota, masyarakat bandung biasanya menggunakan angkutan kota atau yang lebih akrab disebut angkot.', 'selain itu, bus kota dan taksi juga menjadi alat transportasi di kota ini.', 'sedangkan sebagai terminal bus antarkota dan provinsi di kota ini adalah terminal leuwipanjang untuk rute barat dan terminal cicaheum untuk rute timur.', 'travel point to point antara bandung-jakarta memiliki poolnya sendiri-sendiri, tetapi semua travel memiliki juga pool di terusan pasteur, jalan menuju tol bandung-jakarta.', 'pada 24 september 2009, tmb (trans metro bandung) resmi beroperasi, walaupun sempat diprotes oleh sopir angkot setempat.', 'tmb ini merupakan proyek pemerintah kota bandung dalam memberikan layanan transportasi massal dengan harga murah, fasilitas dan kenyamanan yang terjamin serta tepat waktu ke tujuan.pesawatkota bandung memiliki sebuah pelabuhan udara yang bernama bandar udara husein sastranegara untuk menghubungkan kota ini dengan beberapa kota-kota lainnya di indonesia seperti jakarta, surabaya, denpasar, menado, yogyakarta, batam, mataram, makassar, bandar lampung, palembang, pangkalpinang, semarang, dan medan.', 'sedangkan untuk rute luar negeri diantaranya malaysia, singapura, thailand dan brunei darussalam.kapasitas terminal airport yang semula hanya dapat menampung 600.000 penumpang pertahun,kini dapat menampung hingga 3,4 juta penumpang pertahun yang terdiri dari terminal domestik dan terminal internasional.sebelum terminal bandara ini dikembangkan,layanan penumpang keberangkatan maupun kedatangan domestik dan internasional dilayani dalam satu terminal.kereta apikota bandung juga mempunyai stasiun kereta api utama, yaitu stasiun bandung dan stasiun kiaracondongselain 2 buah stasiun tersebut, terdapat 5 stasiun ka lain, seperti gedebage (khusus peti kemas), cimindi, andir, ciroyom dan cikudapateuh.pendidikan secara praktis tak dapat dipisahkan dengan nilai-nilai budaya.', 'dalam menjaga dan melestarikan kebudayaan sendiri, secara proses mantransfernya yang paling efektif dengan cara pendidikan.', 'keduanya sangat erat sekali hubungannya karena saling melengkapi dan mendukung antara satru sama lainnya.', 'tujuan pendidikan pun adalah melestarikan dan selalu meningkatkan kebudayaan itu sendiri, dengan adanya pendidikanlah kita bisa mentransfer kebudayaan itu sendiri dari generasi ke generasi selanjutnya.pendidikan di kota bandungtujuan pendidikan nasional sesuai yang tercantum pada pembukaan undang undang dasar 1945 adalah mencerdaskan kehidupan bangsa dan mengembangkan suember daya manusia (sdm).', 'di antaranya manusia yang beriman, bertakwa terhadap tuhan yang maha esa; berbudi pekerti luhur; memiliki pengetahuan; keterampilan; kesehatan jasmani dan rohani; berkepribadian yang baik; mandiri serta rasa tanggung jawab kemasyarakatan serta kebangsaan.karena itu pendidikan menempati salah satu unsur yang sangat penting dalam pembangunan.', 'dalam menghadapi perkembangan baik nasional maupun internasional yang demikian mengglobal dan semakin kompleks, maka menuntut tersedianya sdm yang berkualitas.', 'pendidikan merupakan bidang yang harus mampu menciptakan kualitas sumber daya manusia yang unggul.pada tingkat nasional, program yang dilaksanakan tetap mengacu pada 4 program strategis, yaitu peningkatan mutu pendidikan, peningkatan pemerataan pendidikan, peningkatan efisiensi pendidikan dan relevansi pendidikan sesuai dengan tuntutan dan kebutuhan masyarakat.', 'selain itu, program rintisan wajib belajar pendidikan dasar 9 tahun merupakan program strategis yang terus diupayakan penuntasannya secara nasional.pada tingkat regional, provinsi jawa barat merupakan provinsi yang pertama kali mencanangkan pencapaian target indeks pembangunan manusia (ipm) 90 tahun pada 2023. provinsi jawa barat telah menetapkan kebijakan di sektor pendidikan.', 'kebijakan tersebut antara lain mengenai upaya peningkatan (aps) angka partisipasi sekolah, harapan lama sekolah dan (hls) angka rata-rata lama sekolah dalam rangka peningkatan (ip) indeks pendidikan.berdasarkan undang-undang nomor 12 tahun 2008 tentang perubahan kedua atas undang-undang nomor 32 tahun 2004 tentang pemerintahan daerah disebutkan bahwa pendidikan merupakan salah satu bidang pemerintahan yang wajib dilaksanakan oleh kabupaten/kota.', 'berkenaan dengan kewajiban tersebut pemerintah kota bandung telah menetapkan kewenangan daerah sebagai daerah otonom yang ditetapkan dalam peraturan daerah kota bandung nomor 02 tahun 2001 tentang kewenangan daerah kota bandung sebagai daerah otonom.selain itu dasar hukum untuk menyelenggarakan pemerintahan dan pelaksanaan pembangunan, telah ditetapkan pula peraturan daerah kota bandung nomor 08 tahun 2016 tentang pembentukan dan susunan organisasi dinas daerah kota bandung.', 'dan peraturan wali kota bandung nomor 1380 tahun 2016 tentang kedudukan, susunan organisasi, tugas dan fungsi serta tata kerja dinas pendidikan.selaras dengan tuntutan perkembangan di masa mendatang, pemerintah kota bandung telah mencanangkan rencana pembangunan jangka menengah yang tertuang pada peraturan kota bandung nomor 2 tahun 2019 tentang rencana pembanguan jangka menengah daerah (rpjpd) tahun 2018-2023. dalam rpjmd tersebut ditegaskan bahwa visi pembangunan kota bandung yang akan dicapai adalah “terwujudnya kota bandung yang nyaman, unggul, sejahtera, dan agamis.”program pembangunan daerah merupakan program atau agenda strategis kepala daerah pada periode rpjmd yang akan menjadi prioritas atau target selama lima (5) tahun yang secara langsung didedikasikan untuk mencapai sasaran daerah.', 'dalam implementasinya program pembangunan daerah dilaksanakan dalam penyelenggaraan urusan yang menjadi kewenangan daerah.', 'program pembangunan daerah yang akan dilaksanakan selama 5 (lima) tahun periode 2018-2023 adalah untuk menjawab isu strategis yang terdiri atas: kebudayaan di kota bandungbandung bukan hanya sebuah kota yang menjadi rumah bagi jutaan warganya.', 'lebih dari itu, bandung adalah kisah dan sejarah yang telah bergulir lebih dari dua abad silam.', 'sejak dahulu bandung mahsyur akan kemolekannya.', 'kota yang dikelilingi pegunungan ini memang menyimpan berjuta keindahan alam.', 'tidak hanya itu, berbagai macam destinasi wisata menarik mulai dari tempat kuliner sampai tempat rekreasi bisa ditemukan di kota bandung.selain dikenal sebagai paris van java dan kota kembang, bandung pun dijuluki the most european city in the east indies, bandung excelsior, intelectuele centrum van indie, europe in the tropen, kota permai, kota pendidkan, kota kreatif hingga kota kuliner.', 'sebagai ibu kota provinsi jawa barat, kota bandung memiliki sarana pelayanan kesehatan yang paling lengkap di provinsi ini.', 'sampai tahun 2007, kota bandung telah memiliki 30 unit rumah sakit dan 70 unit puskesmas yang tersebar di kota ini, di mana dari 17 unit rumah sakit tersebut diantaranya telah memiliki 4 pelayanan kesehatan dasar sedangkan selebihnya merupakan rumah sakit khusus.', 'pelayanan kesehatan dasar tersebut meliputi pelayanan spesialis bedah, pelayanan spesialis penyakit dalam, pelayanan spesialis anak serta pelayanan spesialis kebidanan dan kandungan.', 'dari jumlah tenaga medis yang tercatat di kota bandung dibandingkan dengan jumlah penduduk pada tahun 2007 adalah 86 orang tenaga medis untuk melayani 100.000 penduduk.melaksanakan sebagian urusan pemerintahan daerah di bidang kesehatan berdasarkan asas otonomi dan pembantuan.fungsidi kota bandung sendiri, terdapat beberapa moda angkutan umum yang melayani trayek baik di dalam kota, maupun lintas kota sekitar wilayah bandung raya.', 'moda transportasi tersebut dilayani oleh angkutan kota (angkot), bus kota (damri), trans metro bandung (tmb), maupun kereta rel diesel (krd)angkutan kota dan bus kotauntuk transportasi di dalam kota, masyarakat bandung biasanya menggunakan angkutan kota atau yang lebih akrab disebut angkot.', 'selain itu, bus kota dan taksi juga menjadi alat transportasi di kota ini.', 'sedangkan sebagai terminal bus antarkota dan provinsi di kota ini adalah terminal leuwipanjang untuk rute barat dan terminal cicaheum untuk rute timur.', 'travel point to point antara bandung-jakarta memiliki poolnya sendiri-sendiri, tetapi semua travel memiliki juga pool di terusan pasteur, jalan menuju tol bandung-jakarta.', 'pada 24 september 2009, tmb (trans metro bandung) resmi beroperasi, walaupun sempat diprotes oleh sopir angkot setempat.', 'tmb ini merupakan proyek pemerintah kota bandung dalam memberikan layanan transportasi massal dengan harga murah, fasilitas dan kenyamanan yang terjamin serta tepat waktu ke tujuan.pesawatkota bandung memiliki sebuah pelabuhan udara yang bernama bandar udara husein sastranegara untuk menghubungkan kota ini dengan beberapa kota-kota lainnya di indonesia seperti jakarta, surabaya, denpasar, menado, yogyakarta, batam, mataram, makassar, bandar lampung, palembang, pangkalpinang, semarang, dan medan.', 'sedangkan untuk rute luar negeri diantaranya malaysia, singapura, thailand dan brunei darussalam.kapasitas terminal airport yang semula hanya dapat menampung 600.000 penumpang pertahun,kini dapat menampung hingga 3,4 juta penumpang pertahun yang terdiri dari terminal domestik dan terminal internasional.sebelum terminal bandara ini dikembangkan,layanan penumpang keberangkatan maupun kedatangan domestik dan internasional dilayani dalam satu terminal.kereta apikota bandung juga mempunyai stasiun kereta api utama, yaitu stasiun bandung dan stasiun kiaracondongselain 2 buah stasiun tersebut, terdapat 5 stasiun ka lain, seperti gedebage (khusus peti kemas), cimindi, andir, ciroyom dan cikudapateuh.bandung bukan hanya sebuah kota yang menjadi rumah bagi jutaan warganya.', 'lebih dari itu, bandung adalah kisah dan sejarah yang telah bergulir lebih dari dua abad silam.', 'sejak dahulu bandung mahsyur akan kemolekannya.', 'kota yang dikelilingi pegunungan ini memang menyimpan berjuta keindahan alam.', 'tidak hanya itu, berbagai macam destinasi wisata menarik mulai dari tempat kuliner sampai tempat rekreasi bisa ditemukan di kota bandung.', 'selain dikenal sebagai paris van java dan kota kembang, bandung pun dijuluki the most european city in the east indies, bandung excelsior, intelectuele centrum van indie, europe in the tropen, kota permai, kota pendidkan, kota kreatif hingga kota kuliner.kota bandung adalah salah satu kota terbesar yang ada di indonesia.', 'kota ini juga dijuluki sebagai “paris van java” atau kota paris-nya jawa.', 'karena semua hal ada di bandung.', 'kota ini juga memiliki tata kota yang apik dan fasilitas yang memadai untuk para pelancong, baik yang berasal dari dalam negeri maupun wisatawan luar negeri.kota ini tidak hanya dijuluki sebagai kota metropolitan, tetapi juga kota dengan banyak tempat wisata yang menyenangkan.', 'daerahnya juga menyimpan berbagai keindahan alam yang sangat luar biasa.', 'ada banyak sekali tempat wisata di bandung, seperti taman kota, tempat peninggalan sejarah, wisata alam, danau dan lain nya.']\n"
          ]
        }
      ],
      "source": [
        "bdg_sentences = nltk.sent_tokenize(bdg_text)\n",
        "print(bdg_sentences)"
      ]
    },
    {
      "cell_type": "code",
      "execution_count": null,
      "metadata": {
        "id": "vUJ9FoIz6W2g"
      },
      "outputs": [],
      "source": [
        "# TF-IDF Algorithm dan Cosine Similartity \n",
        "from sklearn.feature_extraction.text import TfidfVectorizer \n",
        "from sklearn.metrics.pairwise import cosine_similarity \n",
        "\n",
        "def chatbot_response(user_query):\n",
        "  bdg_sentences.append(user_query) # tambah kueri ke sentences list / daftar kalimat\n",
        "  vectorizer = TfidfVectorizer() # tambah basis vektor kalimat ke dalam list\n",
        "  sentences_vectors = vectorizer.fit_transform(bdg_sentences)\n",
        "  '''Mengukur cosine similarity dan ambil indeks terdekat yang kedua \n",
        "  karena indeks pertama adalah masukkan teks kueri atau permintaan user'''\n",
        "  vector_values = cosine_similarity(sentences_vectors[-1], sentences_vectors)\n",
        "  answer = bdg_sentences[vector_values.argsort()[0][-2]]\n",
        "  '''Pemeriksaan akhir untuk memastikan adanya hasil atau respon bot. \n",
        "  Jika keseluruhannya bernilai 0, maka teks di input tidak terdapat dalam korpus'''\n",
        "  input_check = vector_values.flatten()\n",
        "  input_check.sort()\n",
        "\n",
        "  if input_check[-2] == 0:\n",
        "    return \"Mohon dicoba lagi yaa\"\n",
        "  else:\n",
        "    return answer"
      ]
    },
    {
      "cell_type": "code",
      "execution_count": null,
      "metadata": {
        "colab": {
          "background_save": true,
          "base_uri": "https://localhost:8080/"
        },
        "id": "QACSb6DR6cgp",
        "outputId": "f45d1cb2-cfaa-42c6-b37f-23c63febec4e"
      },
      "outputs": [
        {
          "name": "stdout",
          "output_type": "stream",
          "text": [
            "Halo, selamat datang di Info Bandung. Ada pertanyaan terkait Kota Bandung?:\n",
            "info.bdg 🏙️❔: selain dikenal sebagai paris van java dan kota kembang, bandung pun dijuluki the most european city in the east indies, bandung excelsior, intelectuele centrum van indie, europe in the tropen, kota permai, kota pendidkan, kota kreatif hingga kota kuliner.kota bandung adalah salah satu kota terbesar yang ada di indonesia.\n",
            "info.bdg 🏙️❔: sebagai ibu kota provinsi jawa barat, kota bandung memiliki sarana pelayanan kesehatan yang paling lengkap di provinsi ini.\n",
            "info.bdg 🏙️❔: sampai tahun 2007, kota bandung telah memiliki 30 unit rumah sakit dan 70 unit puskesmas yang tersebar di kota ini, di mana dari 17 unit rumah sakit tersebut diantaranya telah memiliki 4 pelayanan kesehatan dasar sedangkan selebihnya merupakan rumah sakit khusus.\n",
            "info.bdg 🏙️❔: moda transportasi tersebut dilayani oleh angkutan kota (angkot), bus kota (damri), trans metro bandung (tmb), maupun kereta rel diesel (krd)angkutan kota dan bus kotauntuk transportasi di dalam kota, masyarakat bandung biasanya menggunakan angkutan kota atau yang lebih akrab disebut angkot.\n"
          ]
        }
      ],
      "source": [
        "print(\"Halo, selamat datang di Info Bandung. Ada pertanyaan terkait Kota Bandung?:\")\n",
        "while(True):\n",
        "  query = input().lower()\n",
        "  if query not in ['terimakasih','Terimakasih','bye', 'goodbye', 'take care', 'sayonara']:\n",
        "    print(\"info.bdg 🏙️❔: \", end=\"\")\n",
        "    print(chatbot_response(query))\n",
        "    bdg_sentences.remove(query)\n",
        "  else:\n",
        "    print(\"Sampai Berjumpa di Kota Bandung'\")\n",
        "    break"
      ]
    }
  ],
  "metadata": {
    "colab": {
      "provenance": []
    },
    "kernelspec": {
      "display_name": "Python 3",
      "name": "python3"
    },
    "language_info": {
      "name": "python"
    }
  },
  "nbformat": 4,
  "nbformat_minor": 0
}